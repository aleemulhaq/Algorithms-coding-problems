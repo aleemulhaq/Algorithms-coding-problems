{
  "nbformat": 4,
  "nbformat_minor": 0,
  "metadata": {
    "colab": {
      "provenance": [],
      "authorship_tag": "ABX9TyPNT+c5eONOzyhhJJr5V4CS",
      "include_colab_link": true
    },
    "kernelspec": {
      "name": "python3",
      "display_name": "Python 3"
    },
    "language_info": {
      "name": "python"
    }
  },
  "cells": [
    {
      "cell_type": "markdown",
      "metadata": {
        "id": "view-in-github",
        "colab_type": "text"
      },
      "source": [
        "<a href=\"https://colab.research.google.com/github/aleemulhaq/Coding-problems-notebooks/blob/main/BinarySearchTree_MinDistance.ipynb\" target=\"_parent\"><img src=\"https://colab.research.google.com/assets/colab-badge.svg\" alt=\"Open In Colab\"/></a>"
      ]
    },
    {
      "cell_type": "markdown",
      "source": [
        "### **Binary Search Trees (BST)**\n",
        "Binary Search trees are a data structure that has many advantages over arrays and linked lists. With a binary search tree you are able to both treverse the tree fast to find nodes, and you can insert and delete nodse much faster than in an array, because you don't have to traverse the whole array and move each element to the fill the blank space. They also can work as a sorting algorithem that is very effecent. O(nlog(n))\n",
        "\n",
        "BST are binary... meaning they have two children per node... a right and a left. The rule with a BST is that all children to the left of the node must equal to or smalller than the value stored in the parent node. All the values in the right node must be greater than the parent node.\n",
        "\n",
        "Now BST's are not ideal if they are very very unballanced, which can happen fairly easily, so there are lots of algorithems to not let the trees get too unblananced and force the hight to be more reasnible, which increases traversal effecency.\n",
        "\n",
        "there is a possiblity that a BST that is not ballenced with some algorithem, could potentally just turn into a linked list, where your lookup time will end up being linear time, which is not good in this case."
      ],
      "metadata": {
        "id": "c1Ao-1DfE68x"
      }
    },
    {
      "cell_type": "code",
      "execution_count": 1,
      "metadata": {
        "id": "LfETkT8vE1s6"
      },
      "outputs": [],
      "source": [
        "import math\n",
        "class Node(object):\n",
        "    def __init__(self, value=None):\n",
        "        self.value = value        \n",
        "        self.lChild = None\n",
        "        self.rChild = None"
      ]
    },
    {
      "cell_type": "code",
      "source": [
        "class Tree(object):\n",
        "    def __init__(self):\n",
        "        self.size = 0\n",
        "        self.root = None\n",
        "        \n",
        "    def insert(self, root, node):\n",
        "        if root is None:\n",
        "            root = Node()\n",
        "        else:\n",
        "            if root.value > node.value:\n",
        "                if root.lChild is None:\n",
        "                    root.lChild = node\n",
        "                else:\n",
        "                    self.insert(root.lChild, node)\n",
        "            else:\n",
        "                if root.rChild is None: \n",
        "                    root.rChild = node\n",
        "                else:\n",
        "                    self.insert(root.rChild, node)\n",
        "        \n",
        "    def in_order_print(self, root):\n",
        "        if root is None: \n",
        "            return\n",
        "        else:\n",
        "            self.in_order_print(root.lChild)\n",
        "            print(root.value)\n",
        "            self.in_order_print(root.rChild)\n",
        "            "
      ],
      "metadata": {
        "id": "ydV3RT_hFAYg"
      },
      "execution_count": 2,
      "outputs": []
    },
    {
      "cell_type": "markdown",
      "source": [
        "### **Find min absolute distance**\n",
        "\n",
        "Find the min abs distance given an int k and some node in a tree such that abs(k - node.val) is the smallest possible value.\n",
        "\n",
        "`def findMinDiff(root: Node, k: int, minNode): `\n",
        ", where root and minNode are equal when function is first called.\n",
        "  - e.g. findMinDiff(someRoot, 10, someNode = someRoot)\n",
        "\n",
        "\n",
        "\n",
        "\n"
      ],
      "metadata": {
        "id": "SMT49YChE-r6"
      }
    },
    {
      "cell_type": "code",
      "source": [
        "root = Node(50)\n",
        "# n2 = Node(30)\n",
        "# n3 = Node(70)\n",
        "# n4 = Node(65)\n",
        "# n5 = Node(55)\n",
        "\n",
        "tree = Tree()\n",
        "\n",
        "tree.insert(root, Node(93))\n",
        "tree.insert(root, Node(33))\n",
        "tree.insert(root, Node(88))\n",
        "tree.insert(root, Node(65))\n",
        "tree.insert(root, Node(3))\n",
        "tree.insert(root, Node(12))\n",
        "\n",
        "# print(root.lChild.value)\n",
        "tree.in_order_print(root)\n",
        "print(\"###################\")\n",
        "\n",
        "minDiff = math.inf\n",
        "def findMinDiff(root: Node, k: int, minNode):    \n",
        "    minDiff = abs(k - minNode.value)\n",
        "    if root is None:\n",
        "        return minNode\n",
        "    else:\n",
        "        tempDiff = abs(k - root.value)\n",
        "        if tempDiff < minDiff:\n",
        "            minNode = root\n",
        "            minRNode = findMinDiff(root.rChild, k, minNode)\n",
        "            minLNode = findMinDiff(root.lChild, k, minNode)\n",
        "            minNode = minNode if abs(k - minNode.value) <= abs(k - minRNode.value) else minRNode\n",
        "            minNode = minNode if abs(k - minNode.value) <= abs(k - minLNode.value) else minLNode\n",
        "        elif tempDiff == minDiff:\n",
        "            minNode = root if root.value < minNode.value else minNode\n",
        "            minRNode = findMinDiff(root.rChild, k, minNode)\n",
        "            minLNode = findMinDiff(root.lChild, k, minNode)\n",
        "            minNode = minNode if abs(k - minNode.value) <= abs(k - minRNode.value) else minRNode\n",
        "            minNode = minNode if abs(k - minNode.value) <= abs(k - minLNode.value) else minLNode\n",
        "        return minNode\n",
        "\n",
        "findMinDiff(root, 90, root).value"
      ],
      "metadata": {
        "colab": {
          "base_uri": "https://localhost:8080/"
        },
        "id": "3bx-oWOFFE22",
        "outputId": "8a2bee00-ee00-441c-ae2d-37e556c34266"
      },
      "execution_count": 3,
      "outputs": [
        {
          "output_type": "stream",
          "name": "stdout",
          "text": [
            "3\n",
            "12\n",
            "33\n",
            "50\n",
            "65\n",
            "88\n",
            "93\n",
            "###################\n"
          ]
        },
        {
          "output_type": "execute_result",
          "data": {
            "text/plain": [
              "88"
            ]
          },
          "metadata": {},
          "execution_count": 3
        }
      ]
    },
    {
      "cell_type": "markdown",
      "source": [
        "The AVL method of bllencing BST's:\n",
        "Here is the awesome resource I used to solidify my understanding of this info. Here's a video on AVL trees\n",
        "\n",
        "Basicly the concept behind AVL trees is that you set a value for the hight of each node in the tree. If any side of the tree has a hight grater than the oppiste side by more than one we have to move nodes around in such a way that we satisife that condition.\n",
        "\n",
        "There are 4 types of cases where we need rotations: right right, right left, left left, left right. In each of these cases we do a diferent mode of rotation to keep the tree ballenced.\n",
        "\n",
        "There are two base cases to this, because this process is recursive:\n",
        "\n",
        "The recursive call has reached the root of the tree.\n",
        "The balance factor of the parent has been adjusted to zero. You should convince yourself that once a subtree has a balance   factor of zero, then the balance of its ancestor nodes does not change."
      ],
      "metadata": {
        "id": "vB9YhcCGFHme"
      }
    },
    {
      "cell_type": "code",
      "source": [
        "class Node(object):\n",
        "    def __init__(self, value, parrent):\n",
        "        self.value = value\n",
        "        self.parrent = parrent\n",
        "        self.rightChild = None\n",
        "        self.leftChile = None\n",
        "\n",
        "class AvlBst(object):\n",
        "    def __init__(self):\n",
        "        self.root = None\n",
        "        self.size = 0\n",
        "    \n",
        "    def add(self, node:Node):\n",
        "        if self.root is None:\n",
        "            self.root = node\n",
        "        else:\n",
        "            pass\n",
        "    \n",
        "    def find(self, value) -> Node:\n",
        "        pass\n",
        "    \n",
        "    def remove(self, node):\n",
        "        pass\n",
        "    \n",
        "    @property\n",
        "    def height(self) -> int:\n",
        "        pass\n",
        "    \n",
        "    @property\n",
        "    def ballance_factor(self) -> int:\n",
        "        pass"
      ],
      "metadata": {
        "id": "t4XF421mFHPU"
      },
      "execution_count": 4,
      "outputs": []
    }
  ]
}